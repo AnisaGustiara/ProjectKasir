{
  "nbformat": 4,
  "nbformat_minor": 0,
  "metadata": {
    "colab": {
      "provenance": [],
      "mount_file_id": "1X13Uw_34E5inTcvBSk_MQfVmbkcjGOhT",
      "authorship_tag": "ABX9TyMsX4Ilae+P3Y0gG6RZjuQB",
      "include_colab_link": true
    },
    "kernelspec": {
      "name": "python3",
      "display_name": "Python 3"
    },
    "language_info": {
      "name": "python"
    }
  },
  "cells": [
    {
      "cell_type": "markdown",
      "metadata": {
        "id": "view-in-github",
        "colab_type": "text"
      },
      "source": [
        "<a href=\"https://colab.research.google.com/github/AnisaGustiara/ProjectKasir/blob/main/ProjectKasir.ipynb\" target=\"_parent\"><img src=\"https://colab.research.google.com/assets/colab-badge.svg\" alt=\"Open In Colab\"/></a>"
      ]
    },
    {
      "cell_type": "code",
      "execution_count": 1,
      "metadata": {
        "colab": {
          "base_uri": "https://localhost:8080/"
        },
        "id": "qXJWoqa_xE7g",
        "outputId": "09f7a2d5-7b77-471f-c648-9f7c5a20a516"
      },
      "outputs": [
        {
          "output_type": "stream",
          "name": "stdout",
          "text": [
            "Writing kasir.py\n"
          ]
        }
      ],
      "source": [
        "%%writefile kasir.py"
      ]
    },
    {
      "cell_type": "code",
      "source": [
        "# Import class Transaction\n",
        "from kasir import Transaction\n",
        "\n",
        "# Membuat sebuah objek dari class Transaction()\n",
        "transct_123 = Transaction()\n",
        "\n",
        "# Menampilkan menu utama\n",
        "while True:\n",
        "    print('Selamat datang di Super Kasir. \\n'\n",
        "    'Masukkan angka 1 untuk menambahkan item pembelanjaan')\n",
        "    print('1. Tambah Item')\n",
        "    print('2. Update Nama Item')\n",
        "    print('3. Update Jumlah Item')\n",
        "    print('4. Update Harga Item')\n",
        "    print('5. Hapus Item')\n",
        "    print('6. Reset Transaksi')\n",
        "    print('7. Cek Pesanan')\n",
        "    print('8. Selesai')\n",
        "    menu_pilihan = input('Masukkan menu yang Anda pilih: ')\n",
        "\n",
        "    if menu_pilihan == '1':\n",
        "        add = True\n",
        "        while add:\n",
        "            try:\n",
        "                nama = input('Masukkan nama item: ')\n",
        "                jumlah = int(input('Masukkan jumlah item: '))\n",
        "                harga = int(input('Masukkan harga per item: '))\n",
        "\n",
        "            except ValueError:\n",
        "                print('Jumlah dan Harga item harus berupa angka tanpa spasi dan titik')\n",
        "                nama = input('Masukkan nama item: ')\n",
        "                jumlah = int(input('Masukkan jumlah item: '))\n",
        "                harga = int(input('Masukkan harga per item: '))\n",
        "\n",
        "            # Tambahkan item ke transaksi\n",
        "            transct_123.add_item([nama, jumlah, harga])\n",
        "\n",
        "            # Tanya user untuk menambahkan item\n",
        "            add_more = input('Tambah item? (y/n): ')\n",
        "            if add_more.lower() == 'y':\n",
        "                pass\n",
        "            elif add_more.lower() == 'n':\n",
        "                print('Anda akan kembali ke menu utama')\n",
        "                break\n",
        "            else:\n",
        "                print('Input Anda salah. \\nMasukkan nilai \"y\" atau \"n\"')\n",
        "                print(\"Anda akan kembali ke menu utama\")\n",
        "                break\n",
        "\n",
        "    elif menu_pilihan == '2':\n",
        "        nama_lama = input('Masukkan nama item yang ingin diganti: ')\n",
        "        nama_baru = input('Masukkan nama item baru: ')\n",
        "        transct_123.update_item_name(nama_lama, nama_baru)\n",
        "\n",
        "    elif menu_pilihan == '3':\n",
        "        try:\n",
        "            nama = input('Masukkan nama item: ')\n",
        "            jumlah_baru = int(input('Masukkan jumlah item baru: '))\n",
        "\n",
        "        except ValueError:\n",
        "            print('Jumlah item baru harus diisi dengan data integer')\n",
        "            nama = input('Masukkan nama item: ')\n",
        "            jumlah_baru = int(input('Masukkan jumlah item baru: '))\n",
        "\n",
        "        transct_123.update_item_qty(nama, jumlah_baru)\n",
        "\n",
        "    elif menu_pilihan == '4':\n",
        "        try:\n",
        "            nama = input('Masukkan nama item: ')\n",
        "            harga_baru = int(input('Masukkan harga item baru: '))\n",
        "\n",
        "        except ValueError:\n",
        "            print('Harga item baru harus diisi dengan data integer')\n",
        "            nama = input('Masukkan nama item: ')\n",
        "            harga_baru = int(input('Masukkan harga item baru: '))\n",
        "\n",
        "        transct_123.update_item_price(nama, harga_baru)\n",
        "\n",
        "    elif menu_pilihan == '5':\n",
        "        nama = input('Masukkan nama item: ')\n",
        "        transct_123.delete_item(nama)\n",
        "\n",
        "    elif menu_pilihan == '6':\n",
        "        transct_123.reset_transaction()\n",
        "\n",
        "    elif menu_pilihan == '7':\n",
        "        transct_123.check_order()\n",
        "\n",
        "    elif menu_pilihan == '8':\n",
        "        break\n",
        "\n",
        "\n",
        "# Menampilkan detail pesanan\n",
        "transct_123.check_order()\n",
        "\n",
        "# Menampilkan total harga\n",
        "total = transct_123.total_price()"
      ],
      "metadata": {
        "colab": {
          "base_uri": "https://localhost:8080/"
        },
        "id": "bOm30MAoxdc9",
        "outputId": "48227329-5348-4b9f-cc9a-3038a6836a27"
      },
      "execution_count": 3,
      "outputs": [
        {
          "output_type": "stream",
          "name": "stdout",
          "text": [
            "Selamat datang di Super Kasir. \n",
            "Masukkan angka 1 untuk menambahkan item pembelanjaan\n",
            "1. Tambah Item\n",
            "2. Update Nama Item\n",
            "3. Update Jumlah Item\n",
            "4. Update Harga Item\n",
            "5. Hapus Item\n",
            "6. Reset Transaksi\n",
            "7. Cek Pesanan\n",
            "8. Selesai\n",
            "Masukkan menu yang Anda pilih: 1\n",
            "Masukkan nama item: 4\n",
            "Masukkan jumlah item: 2\n",
            "Masukkan harga per item: 8\n",
            "['4', 2, 8] telah berhasil ditambahkan ke keranjang\n",
            "╒═════╤═════════════╤═══════════════╤══════════════╤═════════════╕\n",
            "│ No. │ Nama Produk │ Jumlah Produk │ Harga/produk │ Total Harga │\n",
            "├─────┼─────────────┼───────────────┼──────────────┼─────────────┤\n",
            "│ 1   │ 4           │ 2             │ 8            │ 16          │\n",
            "╘═════╧═════════════╧═══════════════╧══════════════╧═════════════╛\n",
            "Tambah item? (y/n): n\n",
            "Anda akan kembali ke menu utama\n",
            "Selamat datang di Super Kasir. \n",
            "Masukkan angka 1 untuk menambahkan item pembelanjaan\n",
            "1. Tambah Item\n",
            "2. Update Nama Item\n",
            "3. Update Jumlah Item\n",
            "4. Update Harga Item\n",
            "5. Hapus Item\n",
            "6. Reset Transaksi\n",
            "7. Cek Pesanan\n",
            "8. Selesai\n",
            "Masukkan menu yang Anda pilih: 7\n",
            "Pesanan Sudah Sesuai\n",
            "Selamat datang di Super Kasir. \n",
            "Masukkan angka 1 untuk menambahkan item pembelanjaan\n",
            "1. Tambah Item\n",
            "2. Update Nama Item\n",
            "3. Update Jumlah Item\n",
            "4. Update Harga Item\n",
            "5. Hapus Item\n",
            "6. Reset Transaksi\n",
            "7. Cek Pesanan\n",
            "8. Selesai\n",
            "Masukkan menu yang Anda pilih: 8\n",
            "Pesanan Sudah Sesuai\n",
            "Total Harga: 16\n",
            "Diskon: 0\n",
            "Total yang harus dibayar: 16\n"
          ]
        }
      ]
    }
  ]
}